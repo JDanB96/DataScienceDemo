{
  "nbformat": 4,
  "nbformat_minor": 0,
  "metadata": {
    "colab": {
      "provenance": [],
      "authorship_tag": "ABX9TyNqaWIgDnWy2biUJKVvE/gk",
      "include_colab_link": true
    },
    "kernelspec": {
      "name": "python3",
      "display_name": "Python 3"
    },
    "language_info": {
      "name": "python"
    }
  },
  "cells": [
    {
      "cell_type": "markdown",
      "metadata": {
        "id": "view-in-github",
        "colab_type": "text"
      },
      "source": [
        "<a href=\"https://colab.research.google.com/github/JDanB96/DataScienceDemo/blob/main/DataScience.ipynb\" target=\"_parent\"><img src=\"https://colab.research.google.com/assets/colab-badge.svg\" alt=\"Open In Colab\"/></a>"
      ]
    },
    {
      "cell_type": "code",
      "execution_count": null,
      "metadata": {
        "id": "I2mPf6_-ha_7"
      },
      "outputs": [],
      "source": []
    },
    {
      "cell_type": "markdown",
      "source": [],
      "metadata": {
        "id": "BHkK_LBRlJeb"
      }
    },
    {
      "cell_type": "markdown",
      "source": [
        "## Ingest##\n"
      ],
      "metadata": {
        "id": "I20rkTi3lJhK"
      }
    },
    {
      "cell_type": "code",
      "source": [],
      "metadata": {
        "id": "BCz-WjVxlhTB"
      },
      "execution_count": null,
      "outputs": []
    },
    {
      "cell_type": "markdown",
      "source": [
        "##EDA"
      ],
      "metadata": {
        "id": "FBwzwxmdlP6K"
      }
    },
    {
      "cell_type": "markdown",
      "source": [
        "## Modeling ##"
      ],
      "metadata": {
        "id": "SIZvU3dblTQy"
      }
    },
    {
      "cell_type": "markdown",
      "source": [
        "##Conclusions ##"
      ],
      "metadata": {
        "id": "qTLUC7hzlWyS"
      }
    }
  ]
}